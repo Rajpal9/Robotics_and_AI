{
  "nbformat": 4,
  "nbformat_minor": 0,
  "metadata": {
    "colab": {
      "provenance": []
    },
    "kernelspec": {
      "name": "python3",
      "display_name": "Python 3"
    },
    "language_info": {
      "name": "python"
    }
  },
  "cells": [
    {
      "cell_type": "code",
      "source": [
        "#Class is a blueprint for creating objects\n",
        "\n",
        "#creating class\n",
        "\n",
        "class Student:\n",
        "  name = 'Tom'               #we are telling what information to be stored in this class\n",
        "\n",
        "#creating object (instance)\n",
        "s1 = Student()               #actual student\n",
        "print(s1)"
      ],
      "metadata": {
        "colab": {
          "base_uri": "https://localhost:8080/"
        },
        "id": "XjsJ0RQl1lmq",
        "outputId": "6f25107c-9fb7-42d3-ad37-c42a1bcb9bcc"
      },
      "execution_count": null,
      "outputs": [
        {
          "output_type": "stream",
          "name": "stdout",
          "text": [
            "<__main__.Student object at 0x7dc295532290>\n"
          ]
        }
      ]
    },
    {
      "cell_type": "code",
      "source": [
        "print(s1.name)"
      ],
      "metadata": {
        "colab": {
          "base_uri": "https://localhost:8080/"
        },
        "id": "peMKsugi2txY",
        "outputId": "3a40c932-5914-4efa-c745-a8aaffdcc6b6"
      },
      "execution_count": null,
      "outputs": [
        {
          "output_type": "stream",
          "name": "stdout",
          "text": [
            "Tom\n"
          ]
        }
      ]
    },
    {
      "cell_type": "code",
      "source": [
        "s2 = Student()\n",
        "print(s2.name)      #We will see same name gets printed"
      ],
      "metadata": {
        "colab": {
          "base_uri": "https://localhost:8080/"
        },
        "id": "oCCqkyjW3B1C",
        "outputId": "551de62c-a46b-4575-96b2-0c044bd19f7b"
      },
      "execution_count": null,
      "outputs": [
        {
          "output_type": "stream",
          "name": "stdout",
          "text": [
            "Tom\n"
          ]
        }
      ]
    },
    {
      "cell_type": "code",
      "source": [
        "class Car:                         #creating class\n",
        "  color = 'blue'\n",
        "  company = 'mercedes'\n",
        "\n",
        "car1 = Car()                      #creating object\n",
        "print(car1.color)\n",
        "print(car1.company)"
      ],
      "metadata": {
        "colab": {
          "base_uri": "https://localhost:8080/"
        },
        "id": "jMMI2FR53LsO",
        "outputId": "8c279625-9d22-4eb5-fea6-c814d45fc893"
      },
      "execution_count": null,
      "outputs": [
        {
          "output_type": "stream",
          "name": "stdout",
          "text": [
            "blue\n",
            "mercedes\n"
          ]
        }
      ]
    },
    {
      "cell_type": "markdown",
      "source": [
        "Construcror\n",
        "\n",
        "__init__ function\n",
        "\n",
        "All classes have a function called _init__() which is always executed when the object is being initiated"
      ],
      "metadata": {
        "id": "vZEzivRTNZGQ"
      }
    },
    {
      "cell_type": "code",
      "source": [
        "class Student:\n",
        "  name = 'Tom'              #Python automatically executes init function\n",
        "\n",
        "#creating object (instance)\n",
        "s1 = Student()               #actual student\n",
        "print(s1)"
      ],
      "metadata": {
        "id": "B53G22Aj3cCe"
      },
      "execution_count": null,
      "outputs": []
    },
    {
      "cell_type": "markdown",
      "source": [
        "How do we write it?"
      ],
      "metadata": {
        "id": "kcx_Sm4BOEWr"
      }
    },
    {
      "cell_type": "code",
      "source": [
        "class Student:\n",
        "  name = 'Tom'\n",
        "  def __init__(self):                               #Constructor always takes a parameter 'self'\n",
        "    print(\"Adding new student in database\")\n",
        "\n",
        "\n",
        "#creating object (instance)\n",
        "s1 = Student()               #actual student.  #paranthesis added to call the class Student\n",
        "\n",
        "#self points to the object created, here s1"
      ],
      "metadata": {
        "colab": {
          "base_uri": "https://localhost:8080/"
        },
        "id": "XOWYDA5dOG2a",
        "outputId": "c9d4a50f-11c2-4c83-956c-9030028824e3"
      },
      "execution_count": null,
      "outputs": [
        {
          "output_type": "stream",
          "name": "stdout",
          "text": [
            "Adding new student in database\n"
          ]
        }
      ]
    },
    {
      "cell_type": "markdown",
      "source": [
        "What is self?"
      ],
      "metadata": {
        "id": "NwAML17EPFcN"
      }
    },
    {
      "cell_type": "code",
      "source": [
        "class Student:\n",
        "  name = 'Tom'\n",
        "  def __init__(self):\n",
        "    print(self)\n",
        "    print(\"Adding new student in database\")\n",
        "\n",
        "#creating object (instance)\n",
        "s1 = Student()\n",
        "print(s1)"
      ],
      "metadata": {
        "colab": {
          "base_uri": "https://localhost:8080/"
        },
        "id": "wbH-0gzNPHLC",
        "outputId": "880bf6a4-4223-4e57-b726-b896d33bc1d0"
      },
      "execution_count": null,
      "outputs": [
        {
          "output_type": "stream",
          "name": "stdout",
          "text": [
            "<__main__.Student object at 0x7e7868812710>\n",
            "Adding new student in database\n",
            "<__main__.Student object at 0x7e7868812710>\n"
          ]
        }
      ]
    },
    {
      "cell_type": "code",
      "source": [
        "class Student:\n",
        "  def __init__(self,studentname):\n",
        "    self.name = studentname                          #name will be created as a new variable and it will store studentname\n",
        "    print(\"Adding new student in database\")\n",
        "\n",
        "s1 = Student(\"Tom\")\n",
        "print(s1.name)"
      ],
      "metadata": {
        "colab": {
          "base_uri": "https://localhost:8080/"
        },
        "id": "wdkT_FHSPgDw",
        "outputId": "939256db-5289-447e-c6aa-97d2879072e3"
      },
      "execution_count": null,
      "outputs": [
        {
          "output_type": "stream",
          "name": "stdout",
          "text": [
            "Adding new student in database\n",
            "Tom\n"
          ]
        }
      ]
    },
    {
      "cell_type": "markdown",
      "source": [
        "We created an object, created a constructor, passed an argument self"
      ],
      "metadata": {
        "id": "9Mu5FEtWTSDD"
      }
    },
    {
      "cell_type": "code",
      "source": [
        "class Student:\n",
        "  def __init__(abc,studentname):\n",
        "    abc.name = studentname                          #name will be created as a new variable and it will store studentname\n",
        "    print(\"Adding new student in database\")\n",
        "\n",
        "s1 = Student(\"Tom\")\n",
        "print(s1.name)"
      ],
      "metadata": {
        "colab": {
          "base_uri": "https://localhost:8080/"
        },
        "id": "Rb_CvuWHTdLU",
        "outputId": "84f74452-ebd7-4e15-d9a2-6de7686ff127"
      },
      "execution_count": null,
      "outputs": [
        {
          "output_type": "stream",
          "name": "stdout",
          "text": [
            "Adding new student in database\n",
            "Tom\n"
          ]
        }
      ]
    },
    {
      "cell_type": "markdown",
      "source": [
        "Self parameter is a reference to the current object of the class, and is used to access variables that belong to the class"
      ],
      "metadata": {
        "id": "Dl_YbEtgTshR"
      }
    },
    {
      "cell_type": "code",
      "source": [
        "class Student:\n",
        "  def __init__(self,studentname):\n",
        "    self.name = studentname                          #name will be created as a new variable and it will store studentname\n",
        "    print(\"Adding new student in database\")\n",
        "\n",
        "s1 = Student(\"Tom\")\n",
        "print(s1.name)\n",
        "s2 = Student('Michael')\n",
        "print(s2.name)                          #data stored like here (name) called arttributes"
      ],
      "metadata": {
        "colab": {
          "base_uri": "https://localhost:8080/"
        },
        "id": "BARyO2iQT4i2",
        "outputId": "6606617b-e78e-4721-9c10-6dc8ef16a0d6"
      },
      "execution_count": null,
      "outputs": [
        {
          "output_type": "stream",
          "name": "stdout",
          "text": [
            "Adding new student in database\n",
            "Tom\n",
            "Adding new student in database\n",
            "Michael\n"
          ]
        }
      ]
    },
    {
      "cell_type": "code",
      "source": [
        "class Student:\n",
        "  def __init__(self,name, marks):\n",
        "    self.name = name\n",
        "    self.marks = marks\n",
        "    print(\"Adding new student in database\")\n",
        "\n",
        "s1 = Student(\"Tom\",70)\n",
        "print(s1.name, s1.marks)\n",
        "s2 = Student('Michael',48)\n",
        "print(s2.name, s2.marks)                          #data stored (like here name, marks) called arttributes"
      ],
      "metadata": {
        "colab": {
          "base_uri": "https://localhost:8080/"
        },
        "id": "cAqKwI3CVlFn",
        "outputId": "7577893d-b237-4e85-8033-75217049dbe6"
      },
      "execution_count": null,
      "outputs": [
        {
          "output_type": "stream",
          "name": "stdout",
          "text": [
            "Adding new student in database\n",
            "Tom 70\n",
            "Adding new student in database\n",
            "Michael 48\n"
          ]
        }
      ]
    },
    {
      "cell_type": "markdown",
      "source": [
        "Class and Object Attributes"
      ],
      "metadata": {
        "id": "hnrqppoLWiGr"
      }
    },
    {
      "cell_type": "markdown",
      "source": [
        "Class attributes -- common for all objects, class owns it\n",
        "\n",
        "Object attributes -- different for each object"
      ],
      "metadata": {
        "id": "V4hllXigWocV"
      }
    },
    {
      "cell_type": "code",
      "source": [
        "class Student:\n",
        "  def __init__(self,name, marks):\n",
        "    self.name = name                             #self. signifies we are signifying for a oparticular object\n",
        "    self.marks = marks\n",
        "    print(\"Adding new student in database\")\n",
        "\n",
        "s1 = Student(\"Tom\",70)     #Student name is different for each student so it is a object attribute and\n",
        "                           #we define these as self.______\n",
        "print(s1.name, s1.marks)\n",
        "s2 = Student('Michael',48)\n",
        "print(s2.name, s2.marks)\n",
        "\n",
        "\n",
        "# But database for students will have same college name, so college name will be stored as class attribute to save memory"
      ],
      "metadata": {
        "id": "dvV99Y6_WeN-"
      },
      "execution_count": null,
      "outputs": []
    },
    {
      "cell_type": "code",
      "source": [
        "class Student:\n",
        "  college_name = 'abc'                           #stored only once in the memory\n",
        "\n",
        "  def __init__(self,name, marks):\n",
        "    self.name = name                             #self. signifies we are signifying for a oparticular object\n",
        "    self.marks = marks\n",
        "    print(\"Adding new student in database\")\n",
        "\n",
        "s1 = Student(\"Tom\",70)\n",
        "print(s1.name, s1.marks)\n",
        "s2 = Student('Michael',48)\n",
        "print(s2.name, s2.marks)\n",
        "\n",
        "print(s2.college_name)\n",
        "print(Student.college_name)"
      ],
      "metadata": {
        "colab": {
          "base_uri": "https://localhost:8080/"
        },
        "id": "AL0rohHUWUc8",
        "outputId": "c78c298a-9d78-47a2-ae46-2a489fac78be"
      },
      "execution_count": null,
      "outputs": [
        {
          "output_type": "stream",
          "name": "stdout",
          "text": [
            "Adding new student in database\n",
            "Tom 70\n",
            "Adding new student in database\n",
            "Michael 48\n",
            "abc\n",
            "abc\n"
          ]
        }
      ]
    },
    {
      "cell_type": "markdown",
      "source": [
        "Methods"
      ],
      "metadata": {
        "id": "GCKuyOIoY24f"
      }
    },
    {
      "cell_type": "markdown",
      "source": [
        "Class is a collection of two things: attributes and methods\n",
        "\n",
        "Attributes -- properties e.g car colour, mileage\n",
        "\n",
        "\n",
        "Methods -- functions e.g how the car starts, stops, runs"
      ],
      "metadata": {
        "id": "9gK6cAynY4AF"
      }
    },
    {
      "cell_type": "markdown",
      "source": [
        "Methods are functions that belong to objects. (functions writted inside classes)"
      ],
      "metadata": {
        "id": "fzsjCXFuZC4e"
      }
    },
    {
      "cell_type": "code",
      "source": [
        "class Student:\n",
        "\n",
        "  def __init__(self,name):\n",
        "    self.name = name\n",
        "\n",
        "  def hello(self):\n",
        "    print(\"hello\", self.name)\n",
        "\n",
        "s1 = Student(\"Tom\")\n",
        "s1.hello()"
      ],
      "metadata": {
        "colab": {
          "base_uri": "https://localhost:8080/"
        },
        "id": "WBx7u3k_WUfV",
        "outputId": "eeb4bad5-5428-46f5-f31e-17257fb8846e"
      },
      "execution_count": null,
      "outputs": [
        {
          "output_type": "stream",
          "name": "stdout",
          "text": [
            "hello Tom\n"
          ]
        }
      ]
    },
    {
      "cell_type": "markdown",
      "source": [
        "Practice Problem\n",
        "\n",
        "Create student class that takes name and marks of 3 subjects as arguments in constructor. Then create a method to print the average"
      ],
      "metadata": {
        "id": "MKGD86MXa_U4"
      }
    },
    {
      "cell_type": "code",
      "source": [
        "class Student:\n",
        "    def __init__(self, name, sub1, sub2, sub3):\n",
        "        self.name = name\n",
        "        self.sub1 = sub1\n",
        "        self.sub2 = sub2\n",
        "        self.sub3 = sub3\n",
        "\n",
        "    def average(self):\n",
        "        return (self.sub1 + self.sub2 + self.sub3) / 3\n",
        "\n",
        "# Create instance and print outside the class definition\n",
        "s1 = Student(\"Tom\", 70, 80, 90)\n",
        "print(s1.name, s1.average())"
      ],
      "metadata": {
        "colab": {
          "base_uri": "https://localhost:8080/"
        },
        "id": "2ka82QP8cSxv",
        "outputId": "3ccd2080-8e98-41e3-b6db-5bd2f819bcba"
      },
      "execution_count": null,
      "outputs": [
        {
          "output_type": "stream",
          "name": "stdout",
          "text": [
            "Tom 80.0\n"
          ]
        }
      ]
    },
    {
      "cell_type": "code",
      "source": [
        "class Student:\n",
        "    def __init__(self, name, marks):\n",
        "        self.name = name\n",
        "        self.marks = marks\n",
        "\n",
        "    def average(self):\n",
        "      sum = 0\n",
        "      for i in self.marks:\n",
        "        sum += i\n",
        "\n",
        "      return sum / 3\n",
        "\n",
        "# Create instance and print outside the class definition\n",
        "s1 = Student(\"Tom\", [70, 80, 90])\n",
        "print(s1.name, s1.average())"
      ],
      "metadata": {
        "colab": {
          "base_uri": "https://localhost:8080/"
        },
        "id": "3zd5thD0cozo",
        "outputId": "c903d58e-ae62-4ae4-b064-d32551e8304e"
      },
      "execution_count": null,
      "outputs": [
        {
          "output_type": "stream",
          "name": "stdout",
          "text": [
            "Tom 80.0\n"
          ]
        }
      ]
    },
    {
      "cell_type": "markdown",
      "source": [
        "Static Methods\n",
        "\n",
        "Don't use the self parameter and work at class level"
      ],
      "metadata": {
        "id": "vTmpK0rnjHNc"
      }
    },
    {
      "cell_type": "code",
      "source": [
        "class Student:\n",
        "\n",
        "  def __init__(self,name):\n",
        "    self.name = name\n",
        "\n",
        "  def hello():\n",
        "    print(\"hello\")\n",
        "\n",
        "s1 = Student(\"Tom\")\n",
        "s1.hello()                 #will show an error because there is no self in hello(): but makes no sense to add self to hello"
      ],
      "metadata": {
        "colab": {
          "base_uri": "https://localhost:8080/",
          "height": 202
        },
        "id": "OATZ2oxejKIx",
        "outputId": "149bde88-d47b-4c10-8be5-f2b612961d7f"
      },
      "execution_count": null,
      "outputs": [
        {
          "output_type": "error",
          "ename": "TypeError",
          "evalue": "Student.hello() takes 0 positional arguments but 1 was given",
          "traceback": [
            "\u001b[0;31m---------------------------------------------------------------------------\u001b[0m",
            "\u001b[0;31mTypeError\u001b[0m                                 Traceback (most recent call last)",
            "\u001b[0;32m<ipython-input-30-be83c92ccee9>\u001b[0m in \u001b[0;36m<cell line: 0>\u001b[0;34m()\u001b[0m\n\u001b[1;32m      8\u001b[0m \u001b[0;34m\u001b[0m\u001b[0m\n\u001b[1;32m      9\u001b[0m \u001b[0ms1\u001b[0m \u001b[0;34m=\u001b[0m \u001b[0mStudent\u001b[0m\u001b[0;34m(\u001b[0m\u001b[0;34m\"Tom\"\u001b[0m\u001b[0;34m)\u001b[0m\u001b[0;34m\u001b[0m\u001b[0;34m\u001b[0m\u001b[0m\n\u001b[0;32m---> 10\u001b[0;31m \u001b[0ms1\u001b[0m\u001b[0;34m.\u001b[0m\u001b[0mhello\u001b[0m\u001b[0;34m(\u001b[0m\u001b[0;34m)\u001b[0m                 \u001b[0;31m#will show an error because there is no self in hello(): but makes no sense to add self to hello\u001b[0m\u001b[0;34m\u001b[0m\u001b[0;34m\u001b[0m\u001b[0m\n\u001b[0m",
            "\u001b[0;31mTypeError\u001b[0m: Student.hello() takes 0 positional arguments but 1 was given"
          ]
        }
      ]
    },
    {
      "cell_type": "code",
      "source": [
        "class Student:\n",
        "\n",
        "  def __init__(self,name):\n",
        "    self.name = name\n",
        "\n",
        "  @staticmethod\n",
        "  def hello():\n",
        "    print(\"hello\")\n",
        "\n",
        "s1 = Student(\"Tom\")\n",
        "s1.hello()"
      ],
      "metadata": {
        "colab": {
          "base_uri": "https://localhost:8080/"
        },
        "id": "7LbsuCQIjl3O",
        "outputId": "cd6c333f-d3c1-4802-c1d7-f40d4ad53ee3"
      },
      "execution_count": null,
      "outputs": [
        {
          "output_type": "stream",
          "name": "stdout",
          "text": [
            "hello\n"
          ]
        }
      ]
    },
    {
      "cell_type": "markdown",
      "source": [
        "Pillars of OOPs:\n",
        "1. Abstraction\n",
        "\n",
        "2. Encapsulation\n",
        "\n",
        "3. Inheritance\n",
        "\n",
        "4. Polymorphism"
      ],
      "metadata": {
        "id": "QE9s3uqFkwjF"
      }
    },
    {
      "cell_type": "markdown",
      "source": [
        "Abstraction -- Hiding the implementation details of a class and only showing the essential features to the user -- how things are being implemented -- e.g driver doesn't know what is happening inside the engine unless he searches about it"
      ],
      "metadata": {
        "id": "ROzNHcjWkYU9"
      }
    },
    {
      "cell_type": "code",
      "source": [
        "class Car:\n",
        "  def __init__(self):\n",
        "     self.acc = False\n",
        "     self.brk = False\n",
        "     self.clutch = False\n",
        "\n",
        "  def start(self):\n",
        "     self.clutch = True\n",
        "     self.acc = True\n",
        "     print(\"Starting the car\")\n",
        "\n",
        "\n",
        "car1 = Car()\n",
        "car1.start()          #We just see the necessary thing that is car started"
      ],
      "metadata": {
        "colab": {
          "base_uri": "https://localhost:8080/"
        },
        "id": "of7D_2CAmNmO",
        "outputId": "9952bd12-4188-416d-e365-9f0ffd917328"
      },
      "execution_count": null,
      "outputs": [
        {
          "output_type": "stream",
          "name": "stdout",
          "text": [
            "Starting the car\n"
          ]
        }
      ]
    },
    {
      "cell_type": "markdown",
      "source": [
        "Encapsulation -- Wrapping data and functions into a single unit (object).  ----- we make a capsule of data and functions. ---- inside the class there are attributes and methods --- all examples that we saw"
      ],
      "metadata": {
        "id": "6aTSAiPJmOOg"
      }
    },
    {
      "cell_type": "markdown",
      "source": [
        "del keyword"
      ],
      "metadata": {
        "id": "ShNu2zHLqNPO"
      }
    },
    {
      "cell_type": "code",
      "source": [
        "class Student:\n",
        "\n",
        "  def __init__(self,name):\n",
        "    self.name = name\n",
        "\n",
        "s1 = Student(\"Tom\")\n",
        "print(s1)\n",
        "print(s1.name)\n",
        "del s1\n",
        "del s1.name\n",
        "print(s1.name)\n",
        "print(s1)"
      ],
      "metadata": {
        "colab": {
          "base_uri": "https://localhost:8080/",
          "height": 257
        },
        "id": "xqiaGbWpqMAO",
        "outputId": "eafc028e-0825-46d5-faaa-f8da5f9b3f49"
      },
      "execution_count": null,
      "outputs": [
        {
          "output_type": "stream",
          "name": "stdout",
          "text": [
            "<__main__.Student object at 0x7e7869080c10>\n",
            "Tom\n"
          ]
        },
        {
          "output_type": "error",
          "ename": "NameError",
          "evalue": "name 's1' is not defined",
          "traceback": [
            "\u001b[0;31m---------------------------------------------------------------------------\u001b[0m",
            "\u001b[0;31mNameError\u001b[0m                                 Traceback (most recent call last)",
            "\u001b[0;32m<ipython-input-35-e36dfa2b34ba>\u001b[0m in \u001b[0;36m<cell line: 0>\u001b[0;34m()\u001b[0m\n\u001b[1;32m      8\u001b[0m \u001b[0mprint\u001b[0m\u001b[0;34m(\u001b[0m\u001b[0ms1\u001b[0m\u001b[0;34m.\u001b[0m\u001b[0mname\u001b[0m\u001b[0;34m)\u001b[0m\u001b[0;34m\u001b[0m\u001b[0;34m\u001b[0m\u001b[0m\n\u001b[1;32m      9\u001b[0m \u001b[0;32mdel\u001b[0m \u001b[0ms1\u001b[0m\u001b[0;34m\u001b[0m\u001b[0;34m\u001b[0m\u001b[0m\n\u001b[0;32m---> 10\u001b[0;31m \u001b[0;32mdel\u001b[0m \u001b[0ms1\u001b[0m\u001b[0;34m.\u001b[0m\u001b[0mname\u001b[0m\u001b[0;34m\u001b[0m\u001b[0;34m\u001b[0m\u001b[0m\n\u001b[0m\u001b[1;32m     11\u001b[0m \u001b[0mprint\u001b[0m\u001b[0;34m(\u001b[0m\u001b[0ms1\u001b[0m\u001b[0;34m.\u001b[0m\u001b[0mname\u001b[0m\u001b[0;34m)\u001b[0m\u001b[0;34m\u001b[0m\u001b[0;34m\u001b[0m\u001b[0m\n\u001b[1;32m     12\u001b[0m \u001b[0mprint\u001b[0m\u001b[0;34m(\u001b[0m\u001b[0ms1\u001b[0m\u001b[0;34m)\u001b[0m\u001b[0;34m\u001b[0m\u001b[0;34m\u001b[0m\u001b[0m\n",
            "\u001b[0;31mNameError\u001b[0m: name 's1' is not defined"
          ]
        }
      ]
    },
    {
      "cell_type": "markdown",
      "source": [
        "Private attributes and methods"
      ],
      "metadata": {
        "id": "onBgl7rUq9Ot"
      }
    },
    {
      "cell_type": "code",
      "source": [
        "class Account:\n",
        "  def __init__(self,acc_no, acc_pass):\n",
        "    self.acc_no = acc_no\n",
        "    self.acc_pass = acc_pass\n",
        "\n",
        "acc1 = Account(12345, 'abc')\n",
        "print(acc1.acc_no)\n",
        "print(acc1.acc_pass)  #Sensitive information"
      ],
      "metadata": {
        "colab": {
          "base_uri": "https://localhost:8080/"
        },
        "id": "YQb0bQ8XnNvp",
        "outputId": "6a51bb24-e66e-4942-a809-836751ed670c"
      },
      "execution_count": null,
      "outputs": [
        {
          "output_type": "stream",
          "name": "stdout",
          "text": [
            "12345\n",
            "abc\n"
          ]
        }
      ]
    },
    {
      "cell_type": "code",
      "source": [
        "class Account:\n",
        "  def __init__(self,acc_no, acc_pass):\n",
        "    self.acc_no = acc_no\n",
        "    self.__acc_pass = acc_pass         #Now private, can't be accessed outside class\n",
        "\n",
        "acc1 = Account(12345, 'abc')\n",
        "print(acc1.acc_no)\n",
        "print(acc1.__acc_pass)"
      ],
      "metadata": {
        "colab": {
          "base_uri": "https://localhost:8080/",
          "height": 202
        },
        "id": "EeeJS4C_rsYK",
        "outputId": "08094976-cb3a-460a-9e66-cd2e151d20e7"
      },
      "execution_count": null,
      "outputs": [
        {
          "output_type": "stream",
          "name": "stdout",
          "text": [
            "12345\n"
          ]
        },
        {
          "output_type": "error",
          "ename": "AttributeError",
          "evalue": "'Account' object has no attribute '__acc_pass'",
          "traceback": [
            "\u001b[0;31m---------------------------------------------------------------------------\u001b[0m",
            "\u001b[0;31mAttributeError\u001b[0m                            Traceback (most recent call last)",
            "\u001b[0;32m<ipython-input-40-6fbbca4deea3>\u001b[0m in \u001b[0;36m<cell line: 0>\u001b[0;34m()\u001b[0m\n\u001b[1;32m      6\u001b[0m \u001b[0macc1\u001b[0m \u001b[0;34m=\u001b[0m \u001b[0mAccount\u001b[0m\u001b[0;34m(\u001b[0m\u001b[0;36m12345\u001b[0m\u001b[0;34m,\u001b[0m \u001b[0;34m'abc'\u001b[0m\u001b[0;34m)\u001b[0m\u001b[0;34m\u001b[0m\u001b[0;34m\u001b[0m\u001b[0m\n\u001b[1;32m      7\u001b[0m \u001b[0mprint\u001b[0m\u001b[0;34m(\u001b[0m\u001b[0macc1\u001b[0m\u001b[0;34m.\u001b[0m\u001b[0macc_no\u001b[0m\u001b[0;34m)\u001b[0m\u001b[0;34m\u001b[0m\u001b[0;34m\u001b[0m\u001b[0m\n\u001b[0;32m----> 8\u001b[0;31m \u001b[0mprint\u001b[0m\u001b[0;34m(\u001b[0m\u001b[0macc1\u001b[0m\u001b[0;34m.\u001b[0m\u001b[0m__acc_pass\u001b[0m\u001b[0;34m)\u001b[0m\u001b[0;34m\u001b[0m\u001b[0;34m\u001b[0m\u001b[0m\n\u001b[0m",
            "\u001b[0;31mAttributeError\u001b[0m: 'Account' object has no attribute '__acc_pass'"
          ]
        }
      ]
    },
    {
      "cell_type": "code",
      "source": [
        "class Account:\n",
        "  def __init__(self,acc_no, acc_pass):\n",
        "    self.acc_no = acc_no\n",
        "    self.__acc_pass = acc_pass\n",
        "\n",
        "  def reset_pass(self):\n",
        "    print(self.__acc_pass)\n",
        "\n",
        "acc1 = Account(12345, 'abc')\n",
        "print(acc1.reset_pass())"
      ],
      "metadata": {
        "colab": {
          "base_uri": "https://localhost:8080/"
        },
        "id": "2Rityd9ur2oV",
        "outputId": "fbe9f02d-947d-4eb3-ff83-d6993aab3403"
      },
      "execution_count": null,
      "outputs": [
        {
          "output_type": "stream",
          "name": "stdout",
          "text": [
            "abc\n",
            "None\n"
          ]
        }
      ]
    },
    {
      "cell_type": "markdown",
      "source": [
        "Inheritance\n",
        "\n",
        "When one class (children/derived) derives the properties and methods of another class (parent/base)"
      ],
      "metadata": {
        "id": "SEuDUBQstXRg"
      }
    },
    {
      "cell_type": "code",
      "source": [
        "class Car:\n",
        "  def __init__(self,name):\n",
        "    self.name = name\n",
        "\n",
        "  def start():\n",
        "    pass\n",
        "\n",
        "  def stop():\n",
        "    pass\n",
        "\n",
        "\n",
        "# class SuzukiCar(Car):      #will inherit Car attributes and methods"
      ],
      "metadata": {
        "id": "CzKrd7uBtZa9"
      },
      "execution_count": null,
      "outputs": []
    },
    {
      "cell_type": "code",
      "source": [
        "#Single inheritance -- single parent class and single child class\n",
        "\n",
        "class Car:\n",
        "  def __init__(self,type):\n",
        "    self.type = type\n",
        "\n",
        "  @staticmethod\n",
        "  def start():\n",
        "    print(\"Car started...\")\n",
        "  @staticmethod\n",
        "  def stop():\n",
        "    print(\"Car stopped...\")\n",
        "\n",
        "\n",
        "class SuzukiCar(Car):      #will inherit Car attributes and methods\n",
        "  def __init__(self, name):\n",
        "     self.name = name\n",
        "\n",
        "car1 = SuzukiCar(\"Suzuki\")\n",
        "car2 = SuzukiCar(\"Maruti\")\n",
        "\n",
        "print(car1.name)\n",
        "\n",
        "car1.start()  #Works because it inherits class Car\n",
        "\n",
        "car2.start()"
      ],
      "metadata": {
        "colab": {
          "base_uri": "https://localhost:8080/"
        },
        "id": "4UTnraeju1Wj",
        "outputId": "7cabb2a4-034c-4a3c-884d-72f302df4043"
      },
      "execution_count": null,
      "outputs": [
        {
          "output_type": "stream",
          "name": "stdout",
          "text": [
            "Suzuki\n",
            "Car started...\n",
            "Car started...\n"
          ]
        }
      ]
    },
    {
      "cell_type": "code",
      "source": [
        "class Car:\n",
        "    def __init__(self, type):\n",
        "        self.type = type\n",
        "\n",
        "    @staticmethod\n",
        "    def start():\n",
        "        print(\"Car started...\")\n",
        "\n",
        "    @staticmethod\n",
        "    def stop():\n",
        "        print(\"Car stopped...\")\n",
        "\n",
        "\n",
        "class SuzukiCar(Car):  # will inherit Car attributes and methods\n",
        "    def __init__(self, name, type):\n",
        "        super().__init__(\"Car\")\n",
        "        self.name = name\n",
        "        super().start()\n",
        "\n",
        "\n",
        "car1 = SuzukiCar(\"Suzuki\",'diesel')\n",
        "\n",
        "print(car1.type)"
      ],
      "metadata": {
        "colab": {
          "base_uri": "https://localhost:8080/"
        },
        "id": "j1d32_zw0ROR",
        "outputId": "f8099344-8f3c-4a93-876b-6ddc424437b4"
      },
      "execution_count": null,
      "outputs": [
        {
          "output_type": "stream",
          "name": "stdout",
          "text": [
            "Car started...\n",
            "Car\n"
          ]
        }
      ]
    },
    {
      "cell_type": "markdown",
      "source": [
        "Polymorphism. -- Operator Overloading\n",
        "\n",
        "When the same operator is allowed to have different meaning according to the context"
      ],
      "metadata": {
        "id": "48HU0XQL3SRc"
      }
    },
    {
      "cell_type": "code",
      "source": [
        "print(1+2)           #3 operator is +\n",
        "print(\"hello\"+\"hi\")  #concatenation\n",
        "print([1,2,3]+[4,5,6])    #Meaning of + is different for different operations\n",
        "\n",
        "\n",
        "print(type(1))\n",
        "print(type(\"hello\"))\n",
        "print(type([1,2,3]+[4,5,6]))   #class already has a definition of +"
      ],
      "metadata": {
        "colab": {
          "base_uri": "https://localhost:8080/"
        },
        "id": "2Lrz4HaW3T5z",
        "outputId": "b355827d-dc16-4b34-9247-52dfa0ab07c9"
      },
      "execution_count": null,
      "outputs": [
        {
          "output_type": "stream",
          "name": "stdout",
          "text": [
            "3\n",
            "hellohi\n",
            "[1, 2, 3, 4, 5, 6]\n",
            "<class 'int'>\n",
            "<class 'str'>\n",
            "<class 'list'>\n"
          ]
        }
      ]
    },
    {
      "cell_type": "code",
      "source": [
        "class Complex:\n",
        "    def __init__(self, real, imag):\n",
        "        self.real = real\n",
        "        self.imag = imag\n",
        "\n",
        "    def showNumber(self):\n",
        "        print(f\"{self.real} + {self.imag}j\")\n",
        "\n",
        "    def add(self, other):\n",
        "        newReal = self.real + other.real\n",
        "        newImag = self.imag + other.imag\n",
        "        return Complex(newReal, newImag)\n",
        "\n",
        "num1 = Complex(1, 2)\n",
        "num2 = Complex(3, 4)\n",
        "\n",
        "num1.showNumber()\n",
        "num2.showNumber()\n",
        "\n",
        "num3 = num1.add(num2)\n",
        "num3.showNumber()"
      ],
      "metadata": {
        "colab": {
          "base_uri": "https://localhost:8080/"
        },
        "id": "FzLyAzbc4dcD",
        "outputId": "cf24ace9-f288-4eaf-df43-00d482a6bcd7"
      },
      "execution_count": null,
      "outputs": [
        {
          "output_type": "stream",
          "name": "stdout",
          "text": [
            "1 + 2j\n",
            "3 + 4j\n",
            "4 + 6j\n"
          ]
        }
      ]
    },
    {
      "cell_type": "code",
      "source": [
        "class Complex:\n",
        "    def __init__(self, real, imag):\n",
        "        self.real = real\n",
        "        self.imag = imag\n",
        "\n",
        "    def showNumber(self):\n",
        "        print(f\"{self.real} + {self.imag}j\")\n",
        "\n",
        "    def add(self, other):\n",
        "        newReal = self.real + other.real\n",
        "        newImag = self.imag + other.imag\n",
        "        return Complex(newReal, newImag)\n",
        "\n",
        "num1 = Complex(1, 2)\n",
        "num2 = Complex(3, 4)\n",
        "\n",
        "num1.showNumber()\n",
        "num2.showNumber()\n",
        "\n",
        "num3 = num1 + num2\n",
        "num3.showNumber()"
      ],
      "metadata": {
        "colab": {
          "base_uri": "https://localhost:8080/",
          "height": 238
        },
        "id": "B0aEYPCw6_E8",
        "outputId": "af21387a-c371-4192-a2e7-f9a8e4b48255"
      },
      "execution_count": null,
      "outputs": [
        {
          "output_type": "stream",
          "name": "stdout",
          "text": [
            "1 + 2j\n",
            "3 + 4j\n"
          ]
        },
        {
          "output_type": "error",
          "ename": "TypeError",
          "evalue": "unsupported operand type(s) for +: 'Complex' and 'Complex'",
          "traceback": [
            "\u001b[0;31m---------------------------------------------------------------------------\u001b[0m",
            "\u001b[0;31mTypeError\u001b[0m                                 Traceback (most recent call last)",
            "\u001b[0;32m<ipython-input-80-c3c5a6870992>\u001b[0m in \u001b[0;36m<cell line: 0>\u001b[0;34m()\u001b[0m\n\u001b[1;32m     18\u001b[0m \u001b[0mnum2\u001b[0m\u001b[0;34m.\u001b[0m\u001b[0mshowNumber\u001b[0m\u001b[0;34m(\u001b[0m\u001b[0;34m)\u001b[0m\u001b[0;34m\u001b[0m\u001b[0;34m\u001b[0m\u001b[0m\n\u001b[1;32m     19\u001b[0m \u001b[0;34m\u001b[0m\u001b[0m\n\u001b[0;32m---> 20\u001b[0;31m \u001b[0mnum3\u001b[0m \u001b[0;34m=\u001b[0m \u001b[0mnum1\u001b[0m \u001b[0;34m+\u001b[0m \u001b[0mnum2\u001b[0m\u001b[0;34m\u001b[0m\u001b[0;34m\u001b[0m\u001b[0m\n\u001b[0m\u001b[1;32m     21\u001b[0m \u001b[0mnum3\u001b[0m\u001b[0;34m.\u001b[0m\u001b[0mshowNumber\u001b[0m\u001b[0;34m(\u001b[0m\u001b[0;34m)\u001b[0m\u001b[0;34m\u001b[0m\u001b[0;34m\u001b[0m\u001b[0m\n",
            "\u001b[0;31mTypeError\u001b[0m: unsupported operand type(s) for +: 'Complex' and 'Complex'"
          ]
        }
      ]
    },
    {
      "cell_type": "code",
      "source": [
        "class Complex:\n",
        "    def __init__(self, real, imag):\n",
        "        self.real = real\n",
        "        self.imag = imag\n",
        "\n",
        "    def showNumber(self):\n",
        "        print(f\"{self.real} + {self.imag}j\")\n",
        "\n",
        "    def __add__(self, other):\n",
        "        newReal = self.real + other.real\n",
        "        newImag = self.imag + other.imag\n",
        "        return Complex(newReal, newImag)\n",
        "\n",
        "num1 = Complex(1, 2)\n",
        "num2 = Complex(3, 4)\n",
        "\n",
        "num1.showNumber()\n",
        "num2.showNumber()\n",
        "\n",
        "num3 = num1+num2\n",
        "num3.showNumber()"
      ],
      "metadata": {
        "colab": {
          "base_uri": "https://localhost:8080/"
        },
        "id": "JTlStyoY7bUv",
        "outputId": "5d886854-9e16-42f8-d1cd-6b9c0242ad82"
      },
      "execution_count": null,
      "outputs": [
        {
          "output_type": "stream",
          "name": "stdout",
          "text": [
            "1 + 2j\n",
            "3 + 4j\n",
            "4 + 6j\n"
          ]
        }
      ]
    },
    {
      "cell_type": "markdown",
      "source": [
        "Examples"
      ],
      "metadata": {
        "id": "tdWJ2TuTccG1"
      }
    },
    {
      "cell_type": "markdown",
      "source": [
        "class Robot()\n",
        "\n",
        "Object (Instance) ------A specific robot\n",
        "\n",
        "\n",
        "Attributes ---- Sensors, actuators, battery level\n",
        "\n",
        "\n",
        "Methods ----- Movement, sensing, reporting\n",
        "\n",
        "\n",
        "self ---- Refers to the specific robot\n",
        "\n",
        "\n",
        "Inheritance --- Specialized robots inherit base traits"
      ],
      "metadata": {
        "id": "RXdrDF0bKKca"
      }
    },
    {
      "cell_type": "markdown",
      "source": [
        "Before making the object we make the class of that object"
      ],
      "metadata": {
        "id": "jOdhom3yzcV7"
      }
    },
    {
      "cell_type": "code",
      "source": [
        "class Robot:\n",
        "    def __init__(self, name):\n",
        "        self.name = name             # Attribute: robot's name\n",
        "        self.battery = 100           # Attribute: battery level\n",
        "        self.position = 0            # Attribute: position on ground\n",
        "\n",
        "    def move_forward(self):\n",
        "        self.position += 1          # Method: move forward\n",
        "        self.battery -= 10\n",
        "        print(f\"{self.name} moved to {self.position}, battery: {self.battery}\")\n",
        "\n",
        "    def report(self):\n",
        "        print(f\"[{self.name}] Position: {self.position}, Battery: {self.battery}\")"
      ],
      "metadata": {
        "id": "A5RZLLSjKkcB"
      },
      "execution_count": null,
      "outputs": []
    },
    {
      "cell_type": "code",
      "source": [
        "#Creating an instance\n",
        "r1 = Robot(\"RoboGround\")\n",
        "r1.move_forward()\n",
        "r1.report()"
      ],
      "metadata": {
        "colab": {
          "base_uri": "https://localhost:8080/"
        },
        "id": "nWIb8XRELBv2",
        "outputId": "4871b41b-2387-4162-8cf1-c8f57a774e9b"
      },
      "execution_count": null,
      "outputs": [
        {
          "output_type": "stream",
          "name": "stdout",
          "text": [
            "RoboGround moved to 1, battery: 90\n",
            "[RoboGround] Position: 1, Battery: 90\n"
          ]
        }
      ]
    },
    {
      "cell_type": "code",
      "source": [
        "#Inheritance Class\n",
        "class FlyingRobot(Robot):  # Inheriting from Robot\n",
        "    def __init__(self, name, altitude=0):\n",
        "        super().__init__(name)     # Initialize base class attributes\n",
        "        self.altitude = altitude   # New attribute specific to FlyingRobot\n",
        "\n",
        "    def ascend(self):\n",
        "        self.altitude += 10\n",
        "        self.battery -= 15\n",
        "        print(f\"{self.name} ascended to {self.altitude}m, battery: {self.battery}\")\n",
        "\n",
        "    def report(self):  # Override the base class report method\n",
        "        print(f\"[{self.name}] Position: {self.position}, Altitude: {self.altitude}, Battery: {self.battery}\")"
      ],
      "metadata": {
        "id": "ksAcuba_LZ1B"
      },
      "execution_count": null,
      "outputs": []
    },
    {
      "cell_type": "markdown",
      "source": [
        "\t•\tFlyingRobot inherits all properties (name, battery, position) and methods (move_forward) from Robot\n",
        "\t•\tIt adds a new attribute: altitude\n",
        "\t•\tIt adds a new method: ascend\n",
        "\t•\tIt overrides report() to include altitude"
      ],
      "metadata": {
        "id": "V9y0aA6YLx5l"
      }
    },
    {
      "cell_type": "code",
      "source": [
        "r2 = FlyingRobot(\"DroneA\")\n",
        "r2.move_forward()     # Inherited method from Robot\n",
        "r2.ascend()           # New method in FlyingRobot\n",
        "r2.report()           # Overridden method"
      ],
      "metadata": {
        "colab": {
          "base_uri": "https://localhost:8080/"
        },
        "id": "RRHO2-dhLydO",
        "outputId": "a318f3a2-5c73-4b91-fc45-82c2fdc2fe60"
      },
      "execution_count": null,
      "outputs": [
        {
          "output_type": "stream",
          "name": "stdout",
          "text": [
            "DroneA moved to 1, battery: 90\n",
            "DroneA ascended to 10m, battery: 75\n",
            "[DroneA] Position: 1, Altitude: 10, Battery: 75\n"
          ]
        }
      ]
    },
    {
      "cell_type": "markdown",
      "source": [
        "Functions vs Classes"
      ],
      "metadata": {
        "id": "KJmnw43oyoXS"
      }
    },
    {
      "cell_type": "markdown",
      "source": [
        "Functions: Reduces redundancy and resusability of code increases"
      ],
      "metadata": {
        "id": "-xn_OI8Z8XhK"
      }
    },
    {
      "cell_type": "markdown",
      "source": [
        "Problems with Using Functions Only:"
      ],
      "metadata": {
        "id": "rak8liYv8ZV4"
      }
    },
    {
      "cell_type": "code",
      "source": [
        "def set_motor_speed(name, speed):\n",
        "    # Would need to pass all state manually every time\n",
        "    ...\n",
        "\n",
        "def stop_motor(name):\n",
        "    ..."
      ],
      "metadata": {
        "id": "EPeMPWsc8jUx"
      },
      "execution_count": null,
      "outputs": []
    },
    {
      "cell_type": "markdown",
      "source": [
        "\t•\tRepetitive: You keep passing the same information (e.g., motor name).\n",
        "\t•\tNo memory: Functions don’t remember previous state unless you use globals.  ----what if one motor speed is depenent on another\n",
        "\t•\tHard to scale: Managing lots of motors, sensors, etc., gets messy fast.\n",
        "\t•\tNot modular: Can’t easily group a motor’s speed, direction, status, etc., together."
      ],
      "metadata": {
        "id": "A0YVAQgo8r5X"
      }
    },
    {
      "cell_type": "code",
      "source": [
        "class Motor:\n",
        "    def __init__(self, name):\n",
        "        self.name = name\n",
        "        self.speed = 0\n",
        "\n",
        "    def set_speed(self, speed):\n",
        "        self.speed = speed\n",
        "\n",
        "    def stop(self):\n",
        "        self.speed = 0"
      ],
      "metadata": {
        "id": "H8Nzh1Mw8tKX"
      },
      "execution_count": null,
      "outputs": []
    },
    {
      "cell_type": "code",
      "source": [
        "m1 = Motor(\"Left\")\n",
        "m2 = Motor(\"Right\")\n",
        "\n",
        "m1.set_speed(100)\n",
        "m2.stop()"
      ],
      "metadata": {
        "id": "72EJ0dF39Ky1"
      },
      "execution_count": null,
      "outputs": []
    },
    {
      "cell_type": "markdown",
      "source": [
        "Examples"
      ],
      "metadata": {
        "id": "3LUO78BtAaSt"
      }
    },
    {
      "cell_type": "code",
      "source": [
        "# Function-based approach\n",
        "\n",
        "def create_robot(name):\n",
        "    return {\"name\": name, \"battery\": 100, \"position\": 0}\n",
        "\n",
        "def move_forward(robot):\n",
        "    if robot[\"battery\"] >= 10:\n",
        "        robot[\"position\"] += 1\n",
        "        robot[\"battery\"] -= 10\n",
        "        print(f\"{robot['name']} moved forward. Battery: {robot['battery']}\")\n",
        "    else:\n",
        "        print(f\"{robot['name']} has low battery!\")\n",
        "\n",
        "def move_backward(robot):\n",
        "    if robot[\"battery\"] >= 10:\n",
        "        robot[\"position\"] -= 1\n",
        "        robot[\"battery\"] -= 10\n",
        "        print(f\"{robot['name']} moved backward. Battery: {robot['battery']}\")\n",
        "    else:\n",
        "        print(f\"{robot['name']} has low battery!\")"
      ],
      "metadata": {
        "id": "xHwfzdsj9Qnz"
      },
      "execution_count": null,
      "outputs": []
    },
    {
      "cell_type": "code",
      "source": [
        "robot1 = create_robot(\"RoboA\")\n",
        "move_forward(robot1)\n",
        "move_backward(robot1)\n",
        "print(robot1)"
      ],
      "metadata": {
        "colab": {
          "base_uri": "https://localhost:8080/"
        },
        "id": "w8BeMlLmAlcS",
        "outputId": "53ab8a7b-23a5-4ce2-f08b-f5f2ba8b70d6"
      },
      "execution_count": null,
      "outputs": [
        {
          "output_type": "stream",
          "name": "stdout",
          "text": [
            "RoboA moved forward. Battery: 90\n",
            "RoboA moved backward. Battery: 80\n",
            "{'name': 'RoboA', 'battery': 80, 'position': 0}\n"
          ]
        }
      ]
    },
    {
      "cell_type": "code",
      "source": [
        "#Class based approach\n",
        "class Robot:\n",
        "    def __init__(self, name):\n",
        "        self.name = name\n",
        "        self.battery = 100\n",
        "        self.position = 0\n",
        "\n",
        "    def move_forward(self):\n",
        "        if self.battery >= 10:\n",
        "            self.position += 1\n",
        "            self.battery -= 10\n",
        "            print(f\"{self.name} moved forward. Battery: {self.battery}\")\n",
        "        else:\n",
        "            print(f\"{self.name} has low battery!\")\n",
        "\n",
        "    def move_backward(self):\n",
        "        if self.battery >= 10:\n",
        "            self.position -= 1\n",
        "            self.battery -= 10\n",
        "            print(f\"{self.name} moved backward. Battery: {self.battery}\")\n",
        "        else:\n",
        "            print(f\"{self.name} has low battery!\")\n",
        "\n",
        "    def status(self):\n",
        "        print(f\"Position: {self.position}, Battery: {self.battery}\")"
      ],
      "metadata": {
        "id": "gW5Q-2wBEinA"
      },
      "execution_count": null,
      "outputs": []
    },
    {
      "cell_type": "code",
      "source": [
        "robot1 = Robot(\"RoboA\")\n",
        "robot1.move_forward()\n",
        "robot1.move_backward()\n",
        "robot1.status()"
      ],
      "metadata": {
        "colab": {
          "base_uri": "https://localhost:8080/"
        },
        "id": "k5e_H_P_EzTH",
        "outputId": "4845ffac-a5fb-4813-c28c-fe9b1c72d345"
      },
      "execution_count": null,
      "outputs": [
        {
          "output_type": "stream",
          "name": "stdout",
          "text": [
            "RoboA moved forward. Battery: 90\n",
            "RoboA moved backward. Battery: 80\n",
            "Position: 0, Battery: 80\n"
          ]
        }
      ]
    },
    {
      "cell_type": "markdown",
      "source": [
        "Benefits:\n",
        "\t•\tYou no longer need to pass data around—self does it for you.\n",
        "\t•\tState (battery, position) is encapsulated in the object.\n",
        "\t•\tYou can create multiple robots easily:"
      ],
      "metadata": {
        "id": "XMRbNhr7E7Yw"
      }
    },
    {
      "cell_type": "code",
      "source": [
        "r1 = Robot(\"Alpha\")\n",
        "r2 = Robot(\"Beta\")\n",
        "r1.move_forward()\n",
        "r2.move_backward()"
      ],
      "metadata": {
        "colab": {
          "base_uri": "https://localhost:8080/"
        },
        "id": "q_ZCP7PBE8Z3",
        "outputId": "284fce0f-a155-4478-9db4-650a584e7e1f"
      },
      "execution_count": null,
      "outputs": [
        {
          "output_type": "stream",
          "name": "stdout",
          "text": [
            "Alpha moved forward. Battery: 90\n",
            "Beta moved backward. Battery: 90\n"
          ]
        }
      ]
    },
    {
      "cell_type": "markdown",
      "source": [
        "Task:\n",
        "\t•\tAdd a recharge() function or method that adds +20 battery (up to 100).\n",
        "\t•\tAdd a report() to print name, position, and battery."
      ],
      "metadata": {
        "id": "pM-q23FCFLUT"
      }
    },
    {
      "cell_type": "code",
      "source": [
        "class Robot:\n",
        "    def __init__(self, name):\n",
        "        self.name = name\n",
        "        self.battery = 100\n",
        "        self.position = 0\n",
        "\n",
        "    def move_forward(self):\n",
        "        if self.battery >= 10:\n",
        "            self.position += 1\n",
        "            self.battery -= 10\n",
        "            print(f\"{self.name} moved forward. Battery: {self.battery}\")\n",
        "        else:\n",
        "            print(f\"{self.name} has low battery!\")\n",
        "\n",
        "    def move_backward(self):\n",
        "        if self.battery >= 10:\n",
        "            self.position -= 1\n",
        "            self.battery -= 10\n",
        "            print(f\"{self.name} moved backward. Battery: {self.battery}\")\n",
        "        else:\n",
        "            print(f\"{self.name} has low battery!\")\n",
        "\n",
        "    def recharge(self):\n",
        "        self.battery = min(self.battery + 20, 100)\n",
        "        print(f\"{self.name} recharged. Battery: {self.battery}\")\n",
        "\n",
        "    def report(self):\n",
        "        print(f\"Name: {self.name}, Position: {self.position}, Battery: {self.battery}\")"
      ],
      "metadata": {
        "id": "ArodoiR1FMt8"
      },
      "execution_count": null,
      "outputs": []
    },
    {
      "cell_type": "code",
      "source": [
        "robot1 = Robot(\"RoboA\")\n",
        "robot1.move_forward()\n",
        "robot1.recharge()\n",
        "robot1.report()"
      ],
      "metadata": {
        "colab": {
          "base_uri": "https://localhost:8080/"
        },
        "id": "dZwXBGgvFYn4",
        "outputId": "a1b7fd33-5a32-4a6a-bb2a-d45a6c304fba"
      },
      "execution_count": null,
      "outputs": [
        {
          "output_type": "stream",
          "name": "stdout",
          "text": [
            "RoboA moved forward. Battery: 90\n",
            "RoboA recharged. Battery: 100\n",
            "Name: RoboA, Position: 1, Battery: 100\n"
          ]
        }
      ]
    }
  ]
}